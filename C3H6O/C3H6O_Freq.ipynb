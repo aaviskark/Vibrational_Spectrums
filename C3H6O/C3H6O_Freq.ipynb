{
 "cells": [
  {
   "cell_type": "code",
   "execution_count": 52,
   "id": "6ceb1aaa",
   "metadata": {},
   "outputs": [],
   "source": [
    "import pandas as pd\n",
    "import numpy as np\n",
    "import matplotlib.pyplot as plt"
   ]
  },
  {
   "cell_type": "code",
   "execution_count": 95,
   "id": "102f65c7",
   "metadata": {},
   "outputs": [
    {
     "name": "stderr",
     "output_type": "stream",
     "text": [
      "/opt/crc/p/python/3.7.3/gcc/lib/python3.7/site-packages/matplotlib/cbook/__init__.py:1402: FutureWarning: Support for multi-dimensional indexing (e.g. `obj[:, None]`) is deprecated and will be removed in a future version.  Convert to a numpy array before indexing instead.\n",
      "  x[:, None]\n",
      "/opt/crc/p/python/3.7.3/gcc/lib/python3.7/site-packages/matplotlib/axes/_base.py:276: FutureWarning: Support for multi-dimensional indexing (e.g. `obj[:, None]`) is deprecated and will be removed in a future version.  Convert to a numpy array before indexing instead.\n",
      "  x = x[:, np.newaxis]\n",
      "/opt/crc/p/python/3.7.3/gcc/lib/python3.7/site-packages/matplotlib/axes/_base.py:278: FutureWarning: Support for multi-dimensional indexing (e.g. `obj[:, None]`) is deprecated and will be removed in a future version.  Convert to a numpy array before indexing instead.\n",
      "  y = y[:, np.newaxis]\n"
     ]
    },
    {
     "data": {
      "image/png": "[encoded data removed]",
      "text/plain": [
       "<Figure size 432x288 with 1 Axes>"
      ]
     },
     "metadata": {
      "needs_background": "light"
     },
     "output_type": "display_data"
    }
   ],
   "source": [
    "x = pd.read_excel('Acetone.xlsx') #finds excel table and sets it = to x\n",
    "\n",
    "xval = x['cm**1'] #sets X value = to column titled 'cm**1'\n",
    "yval = x['Intensity'] #sets Y value = to colum titled 'Intensity'\n",
    "\n",
    "plt.plot(xval, yval/max(yval), label = 'Exp') # plots x value; yval is plot with data normalized to max value\n",
    "plt.vlines([883.14,1189.07,1318.49,1321.62,1404.48,1422.49,1728.39,2961.68, 2976.08,3066.60,3086.75], min(yval) -.1, 1, color = 'red', label = 'DFT') # plots DFT values and sets min to minimum yval - .1\n",
    "plt.hlines(0,0,max(xval), color = 'gray', linestyle = 'dashed') # plots a dashed line at (0,0)\n",
    "plt.title('IR Spectrum of Acetone', size = 17) \n",
    "plt.xlabel(\"Frequency (cm^-1)\",size = 15)\n",
    "plt.ylabel(\"Relative Absorbance\", size = 15)\n",
    "plt.xlim(max(xval), min(xval)) # inverts X axis to go from highest to lowest\n",
    "plt.ylim(min(yval) -.1, 1.30) # sets y axis min to start at minimun yval -.1; max at 1.30 \n",
    " \n",
    "plt.legend(loc = 'upper right')\n",
    "\n",
    "plt.tight_layout()\n",
    "plt.savefig('./IR_C3H6O.pdf')\n",
    "plt.show()\n"
   ]
  },
  {
   "cell_type": "code",
   "execution_count": 54,
   "id": "ff87749f",
   "metadata": {},
   "outputs": [
    {
     "data": {
      "text/plain": [
       "array([-0.05022457, -0.05030268, -0.05034173, ...,  0.10607303,\n",
       "        0.10693224,  0.10775239])"
      ]
     },
     "execution_count": 54,
     "metadata": {},
     "output_type": "execute_result"
    }
   ],
   "source": [
    "max(yval)\n",
    "np.array(yval)/max(yval)"
   ]
  },
  {
   "cell_type": "code",
   "execution_count": 49,
   "id": "b7c19f61",
   "metadata": {},
   "outputs": [
    {
     "data": {
      "text/html": [
       "<div>\n",
       "<style scoped>\n",
       "    .dataframe tbody tr th:only-of-type {\n",
       "        vertical-align: middle;\n",
       "    }\n",
       "\n",
       "    .dataframe tbody tr th {\n",
       "        vertical-align: top;\n",
       "    }\n",
       "\n",
       "    .dataframe thead th {\n",
       "        text-align: right;\n",
       "    }\n",
       "</style>\n",
       "<table border=\"1\" class=\"dataframe\">\n",
       "  <thead>\n",
       "    <tr style=\"text-align: right;\">\n",
       "      <th></th>\n",
       "      <th>cm**1</th>\n",
       "      <th>Intensity</th>\n",
       "    </tr>\n",
       "  </thead>\n",
       "  <tbody>\n",
       "    <tr>\n",
       "      <th>0</th>\n",
       "      <td>3997.77341</td>\n",
       "      <td>-0.01286</td>\n",
       "    </tr>\n",
       "    <tr>\n",
       "      <th>1</th>\n",
       "      <td>3995.84491</td>\n",
       "      <td>-0.01288</td>\n",
       "    </tr>\n",
       "    <tr>\n",
       "      <th>2</th>\n",
       "      <td>3993.91642</td>\n",
       "      <td>-0.01289</td>\n",
       "    </tr>\n",
       "    <tr>\n",
       "      <th>3</th>\n",
       "      <td>3991.98792</td>\n",
       "      <td>-0.01292</td>\n",
       "    </tr>\n",
       "    <tr>\n",
       "      <th>4</th>\n",
       "      <td>3990.05942</td>\n",
       "      <td>-0.01295</td>\n",
       "    </tr>\n",
       "  </tbody>\n",
       "</table>\n",
       "</div>"
      ],
      "text/plain": [
       "        cm**1  Intensity\n",
       "0  3997.77341   -0.01286\n",
       "1  3995.84491   -0.01288\n",
       "2  3993.91642   -0.01289\n",
       "3  3991.98792   -0.01292\n",
       "4  3990.05942   -0.01295"
      ]
     },
     "execution_count": 49,
     "metadata": {},
     "output_type": "execute_result"
    }
   ],
   "source": [
    "x.head()"
   ]
  },
  {
   "cell_type": "code",
   "execution_count": null,
   "id": "fcbb0f4a",
   "metadata": {},
   "outputs": [],
   "source": []
  },
  {
   "cell_type": "code",
   "execution_count": null,
   "id": "6774d338",
   "metadata": {},
   "outputs": [],
   "source": []
  },
  {
   "cell_type": "code",
   "execution_count": null,
   "id": "2b11da80",
   "metadata": {},
   "outputs": [],
   "source": []
  }
 ],
 "metadata": {
  "kernelspec": {
   "display_name": "Python 3 (ipykernel)",
   "language": "python",
   "name": "python3"
  },
  "language_info": {
   "codemirror_mode": {
    "name": "ipython",
    "version": 3
   },
   "file_extension": ".py",
   "mimetype": "text/x-python",
   "name": "python",
   "nbconvert_exporter": "python",
   "pygments_lexer": "ipython3",
   "version": "3.7.3"
  }
 },
 "nbformat": 4,
 "nbformat_minor": 5
}
