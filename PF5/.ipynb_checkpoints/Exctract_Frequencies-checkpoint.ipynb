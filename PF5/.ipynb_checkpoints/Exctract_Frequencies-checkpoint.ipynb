{
 "cells": [
  {
   "cell_type": "code",
   "execution_count": 1,
   "metadata": {},
   "outputs": [],
   "source": [
    "import matplotlib.pyplot as plt\n",
    "import numpy as np"
   ]
  },
  {
   "cell_type": "code",
   "execution_count": 2,
   "metadata": {},
   "outputs": [],
   "source": [
    "def Extract_Freq(file,num_atoms):\n",
    "    \n",
    "    # open file and read each line\n",
    "    with open(file) as f:\n",
    "        lines = f.readlines()\n",
    "\n",
    "    # setting flag and index to 0\n",
    "    flag = 0\n",
    "    index = 0\n",
    "\n",
    "    # Loop through the file line by line\n",
    "    for line in lines:  \n",
    "        index += 1 \n",
    "\n",
    "        # checking string is present in line or not\n",
    "        if 'IR SPECTRUM' in line:\n",
    "\n",
    "          flag = 1\n",
    "          break # once string is found stop looking\n",
    "\n",
    "    # get all frequency data\n",
    "    Freq_temp = [] \n",
    "    for i in range(index+4,index+(3*num_atoms)-2): # loop over 3N-6 configs\n",
    "        Freq_temp.append(lines[i].split())\n",
    "\n",
    "    Freq = []\n",
    "    Inte = []\n",
    "\n",
    "    # Store Frequency and Intensity Data\n",
    "    for i in Freq_temp:\n",
    "        Freq.append(float(i[1]))\n",
    "        Inte.append(float(i[2]))\n",
    "        \n",
    "    return Freq, Inte\n",
    "\n",
    "def Lor_LS(Freq,Inte,span,spread):\n",
    "    \n",
    "    mode = np.zeros(span)\n",
    "    \n",
    "    for I,F in enumerate(Freq):\n",
    "        X = []\n",
    "        m = []\n",
    "        \n",
    "        for x in range(0,span):\n",
    "            X.append(x)\n",
    "            m.append(Int[I]*(1/np.pi*spread)*spread**2/(((x-F)**2)+spread**2))\n",
    "            \n",
    "        mode += m\n",
    "        \n",
    "    return X,mode\n",
    "    "
   ]
  },
  {
   "cell_type": "code",
   "execution_count": 5,
   "metadata": {},
   "outputs": [
    {
     "data": {
      "image/png": "[encoded data removed]",
      "text/plain": [
       "<Figure size 432x288 with 1 Axes>"
      ]
     },
     "metadata": {
      "needs_background": "light"
     },
     "output_type": "display_data"
    }
   ],
   "source": [
    "n = 6 # number of atoms\n",
    "file = 'freq.orca'\n",
    "\n",
    "Freq, Int = Extract_Freq(file,n)\n",
    "span = 5000\n",
    "spread = 75\n",
    "F,I = Lor_LS(Freq,Int,span,spread)\n",
    "        \n",
    "values = [3756.0, 3657.0, 1595.0]\n",
    "        \n",
    "plt.plot(F,I/max(I),color='blue', label = 'Lorentzian Corrected Value')\n",
    "plt.vlines(Freq,np.linspace(0,0,len(Int)),np.array(Int)/max(Int),color='red', label = 'Calculated Value')\n",
    "# plt.vlines(values,0,1,color='green', label = 'Literature Value')\n",
    "plt.hlines(0,0,5000)\n",
    "plt.xlim(5000,0)\n",
    "plt.ylim(0,1)\n",
    "\n",
    "plt.title('PF5 IR Spectrum', size = 18)\n",
    "plt.xlabel(\"Freqency (cm^-1)\",size = 14)\n",
    "plt.ylabel(\"Relative Absorbance\", size = 14)\n",
    "plt.legend(loc = 'upper left')\n",
    "plt.grid()\n",
    "\n",
    "plt.tight_layout()\n",
    "plt.savefig('./IR_PF5.pdf')\n",
    "plt.show()\n",
    "\n"
   ]
  },
  {
   "cell_type": "code",
   "execution_count": 38,
   "metadata": {},
   "outputs": [],
   "source": []
  },
  {
   "cell_type": "code",
   "execution_count": null,
   "metadata": {},
   "outputs": [],
   "source": []
  },
  {
   "cell_type": "code",
   "execution_count": null,
   "metadata": {},
   "outputs": [],
   "source": []
  }
 ],
 "metadata": {
  "kernelspec": {
   "display_name": "Python 3 (ipykernel)",
   "language": "python",
   "name": "python3"
  },
  "language_info": {
   "codemirror_mode": {
    "name": "ipython",
    "version": 3
   },
   "file_extension": ".py",
   "mimetype": "text/x-python",
   "name": "python",
   "nbconvert_exporter": "python",
   "pygments_lexer": "ipython3",
   "version": "3.7.3"
  }
 },
 "nbformat": 4,
 "nbformat_minor": 4
}
